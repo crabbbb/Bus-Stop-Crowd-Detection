{
 "cells": [
  {
   "cell_type": "markdown",
   "id": "244da24b-5a0f-4025-a789-e5aae277326c",
   "metadata": {},
   "source": [
    "# Installation"
   ]
  },
  {
   "cell_type": "code",
   "execution_count": null,
   "id": "f14c9c34-0523-4d7e-b062-9109bc805194",
   "metadata": {},
   "outputs": [],
   "source": [
    "%pip install -r ../Docker/requirements.txt"
   ]
  },
  {
   "cell_type": "code",
   "execution_count": 3,
   "id": "21f1fbd7-e202-4e18-b1ec-f89e37787cf2",
   "metadata": {},
   "outputs": [
    {
     "name": "stdout",
     "output_type": "stream",
     "text": [
      "Found existing installation: matplotlib 3.9.2\n",
      "Uninstalling matplotlib-3.9.2:\n",
      "  Successfully uninstalled matplotlib-3.9.2\n",
      "Note: you may need to restart the kernel to use updated packages.\n"
     ]
    },
    {
     "name": "stderr",
     "output_type": "stream",
     "text": [
      "WARNING: Failed to remove contents in a temporary directory 'C:\\Users\\LENOVO\\anaconda3\\envs\\fyp\\Lib\\site-packages\\~atplotlib'.\n",
      "You can safely remove it manually.\n"
     ]
    }
   ],
   "source": [
    "%pip uninstall -y matplotlib"
   ]
  },
  {
   "cell_type": "code",
   "execution_count": 1,
   "id": "e35d1a2a-8cbb-4141-9bf2-16d7e1e1d812",
   "metadata": {},
   "outputs": [],
   "source": [
    "import cv2\n",
    "import os\n",
    "import imutils"
   ]
  },
  {
   "cell_type": "markdown",
   "id": "ec6f5d6d-b089-4ab1-ab29-574a3a018b1f",
   "metadata": {},
   "source": [
    "# Convert Video to Image"
   ]
  },
  {
   "cell_type": "code",
   "execution_count": 7,
   "id": "80cf5619-450b-4dca-9454-eddc5a5d0a7e",
   "metadata": {},
   "outputs": [],
   "source": [
    "def saveFrame(out, imName, frame) : \n",
    "    # save the frame\n",
    "    fName = os.path.join(out, f\"{imName}.jpg\")\n",
    "    cv2.imwrite(fName, frame)"
   ]
  },
  {
   "cell_type": "code",
   "execution_count": 8,
   "id": "96c72483-40eb-45d1-9c40-b32852423c87",
   "metadata": {},
   "outputs": [],
   "source": [
    "import cv2\n",
    "import os\n",
    "\n",
    "outputFolder = \"../Source/busStopImage\"\n",
    "\n",
    "if not os.path.exists(f\"{outputFolder}\") :\n",
    "    print(f\"Folder not exist ... creating new folder at {outputFolder}\")\n",
    "    os.makedirs(outputFolder)\n",
    "\n",
    "# get access to the video\n",
    "inputVideo = \"../Source/CCTV/TarumtBusStopManyPplInQueue.mp4\"\n",
    "\n",
    "if not os.path.exists(f\"{inputVideo}\") :\n",
    "    print(f\"Source Video doesnot exist\")\n",
    "    exit()\n",
    "    \n",
    "# loop video and store into file\n",
    "    cap = cv2.VideoCapture(inputVideo) \n",
    "\n",
    "frameNo = 0\n",
    "\n",
    "while cap.isOpened() : \n",
    "    # ret = read True, if True = successfully read the frame \n",
    "    ret, frame = cap.read()\n",
    "    if not ret:\n",
    "        exit()\n",
    "\n",
    "    # save the frame\n",
    "    saveFrame(outputFolder, f\"BS_frame{frameNo}\", frame)\n",
    "    frameNo += 1\n",
    "\n",
    "    cv2.imshow(\"TAR UMT Bus Stop Video\", frame)\n",
    "\n",
    "    # set key for exit \n",
    "    # without wait for 25ms will make the video play very fast and skip many frames \n",
    "    # this 25ms is to let the video wait the code process, else will be like fast-forward \n",
    "    # in the mean time it also able to capture user quit action properly \n",
    "    if cv2.waitKey(25) & 0xFF == ord('q') : \n",
    "        break\n",
    "\n",
    "# release the video object\n",
    "cap.release()\n",
    "cv2.destroyAllWindows()"
   ]
  },
  {
   "cell_type": "code",
   "execution_count": null,
   "id": "9598e61e-06ce-4926-9c3b-669892b2f51e",
   "metadata": {},
   "outputs": [],
   "source": [
    "# 1080, 720\n",
    "def resize(frame, w, h) : \n",
    "    return cv2.resize(frame, (w, h))"
   ]
  },
  {
   "cell_type": "markdown",
   "id": "8f503446-d355-4265-8b6b-8337ce2cda23",
   "metadata": {},
   "source": [
    "# Processing Image"
   ]
  },
  {
   "cell_type": "markdown",
   "id": "ee80434b-70da-4f25-971f-9fca856c2098",
   "metadata": {},
   "source": [
    "1. Rotate"
   ]
  },
  {
   "cell_type": "code",
   "execution_count": 5,
   "id": "010676b7-80b8-4e66-a83a-3155290de4dd",
   "metadata": {},
   "outputs": [
    {
     "data": {
      "text/plain": [
       "(1080, 1920, 3)"
      ]
     },
     "execution_count": 5,
     "metadata": {},
     "output_type": "execute_result"
    }
   ],
   "source": [
    "im = cv2.imread(\"../Source/busStopImage/BS_frame12.jpg\")\n",
    "im.shape"
   ]
  },
  {
   "cell_type": "code",
   "execution_count": 3,
   "id": "f462b6d8-9389-49d7-80d5-b531c0390b3e",
   "metadata": {},
   "outputs": [],
   "source": [
    "# cv2 \n",
    "def rotateImage(frame) :\n",
    "    # get center \n",
    "    h, w = frame.shape[:2]\n",
    "    (centerX, centerY) = (w//2, h//2) # the formula for get center point \n",
    "\n",
    "    M = cv2.getRotationMatrix2D((centerX, centerY), 5, 1.0)\n",
    "    rotate = cv2.warpAffine(frame, M, (w, h))\n",
    "\n",
    "    return rotate\n",
    "\n",
    "# action perform \n",
    "roIm = imp.rotateImage(frame=im)\n",
    "\n",
    "cv2.imshow(\"hello\", roIm)\n",
    "cv2.waitKey(0)\n",
    "cv2.destroyAllWindows()"
   ]
  },
  {
   "cell_type": "code",
   "execution_count": 9,
   "id": "c4bdfac2-45ca-4fbf-ae31-605e6d6df1b3",
   "metadata": {},
   "outputs": [],
   "source": [
    "# imutils\n",
    "# rotate with non crop\n",
    "rotate = imutils.rotate_bound(im, -5)\n",
    "\n",
    "cv2.imshow(\"hello\", rotate)\n",
    "cv2.waitKey(0)\n",
    "cv2.destroyAllWindows()"
   ]
  },
  {
   "cell_type": "code",
   "execution_count": 13,
   "id": "8fc75819-6cc7-4aa6-bd03-8d4e07109757",
   "metadata": {},
   "outputs": [
    {
     "data": {
      "text/plain": [
       "True"
      ]
     },
     "execution_count": 13,
     "metadata": {},
     "output_type": "execute_result"
    }
   ],
   "source": [
    "# save image \n",
    "cv2.imwrite(f'rotate.jpg', rotate)"
   ]
  },
  {
   "cell_type": "markdown",
   "id": "5fcb7425-3cc3-4bf0-b4e9-2ee1ac5e55bd",
   "metadata": {},
   "source": [
    "2. Crop"
   ]
  },
  {
   "cell_type": "markdown",
   "id": "28386e1a-cd14-4535-bdb9-58794197421e",
   "metadata": {},
   "source": [
    "[using this website get the x,y,w,h faster](https://www.online-image-editor.com/)\n",
    "- w = the distance between start point x and end point x\n",
    "- h = the distance between start point y and end point y "
   ]
  },
  {
   "cell_type": "code",
   "execution_count": 14,
   "id": "ce123f9f-9c27-4469-bc3c-1ac772142b65",
   "metadata": {},
   "outputs": [],
   "source": [
    "# read image\n",
    "im = cv2.imread(\"rotate.jpg\") "
   ]
  },
  {
   "cell_type": "code",
   "execution_count": 15,
   "id": "bbd2288e-aa55-42a1-ae86-4ba9da3e47fa",
   "metadata": {},
   "outputs": [],
   "source": [
    "x, y, w, h = 35, 537, 1951, 278 \n",
    "\n",
    "crop = im[y:y+h, x:x+w]\n",
    "\n",
    "cv2.imshow(\"crop\", crop) \n",
    "cv2.waitKey(0) \n",
    "cv2.destroyAllWindows()"
   ]
  },
  {
   "cell_type": "code",
   "execution_count": 16,
   "id": "5bd08494-900f-4509-b2ac-b4144c0fbd63",
   "metadata": {},
   "outputs": [
    {
     "data": {
      "text/plain": [
       "True"
      ]
     },
     "execution_count": 16,
     "metadata": {},
     "output_type": "execute_result"
    }
   ],
   "source": [
    "# save image \n",
    "cv2.imwrite(f'crop.jpg', crop)"
   ]
  }
 ],
 "metadata": {
  "kernelspec": {
   "display_name": "fyp",
   "language": "python",
   "name": "fyp"
  },
  "language_info": {
   "codemirror_mode": {
    "name": "ipython",
    "version": 3
   },
   "file_extension": ".py",
   "mimetype": "text/x-python",
   "name": "python",
   "nbconvert_exporter": "python",
   "pygments_lexer": "ipython3",
   "version": "3.12.7"
  }
 },
 "nbformat": 4,
 "nbformat_minor": 5
}
